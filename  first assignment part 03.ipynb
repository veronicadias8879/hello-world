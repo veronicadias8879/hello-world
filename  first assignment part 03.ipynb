{
 "cells": [
  {
   "cell_type": "code",
   "execution_count": 3,
   "metadata": {},
   "outputs": [
    {
     "name": "stdout",
     "output_type": "stream",
     "text": [
      "Enter :hours twenty\n",
      "Enter hours twenty\n",
      "Enter numeric value\n",
      "Enter hours 20\n",
      "Worked for hour  20\n"
     ]
    }
   ],
   "source": [
    "hours = input('Enter :hours ')\n",
    "while True:\n",
    "    try:\n",
    "        hours = input('Enter hours ')\n",
    "        hours = int(hours)\n",
    "        break\n",
    "    except:\n",
    "        print('Enter numeric value')\n",
    "        continue\n",
    "print('Worked for hour ', hours)"
   ]
  },
  {
   "cell_type": "code",
   "execution_count": 4,
   "metadata": {},
   "outputs": [
    {
     "name": "stdout",
     "output_type": "stream",
     "text": [
      "Enter :rate nine\n",
      "Enter rate nine\n",
      "Enter numeric value\n",
      "Enter rate 09\n",
      "Worked for Rs  9\n"
     ]
    }
   ],
   "source": [
    "rate = input('Enter :rate ')\n",
    "while True:\n",
    "    try:\n",
    "        rate = input('Enter rate ')\n",
    "        rate = int(rate)\n",
    "        break\n",
    "    except:\n",
    "        print('Enter numeric value')\n",
    "        continue\n",
    "print('Worked for Rs ', rate)"
   ]
  },
  {
   "cell_type": "code",
   "execution_count": 14,
   "metadata": {},
   "outputs": [
    {
     "name": "stdout",
     "output_type": "stream",
     "text": [
      "Something\n"
     ]
    }
   ],
   "source": [
    "n = 45\n",
    "if n > 40:\n",
    "    print('Something')"
   ]
  },
  {
   "cell_type": "code",
   "execution_count": 17,
   "metadata": {},
   "outputs": [
    {
     "name": "stdout",
     "output_type": "stream",
     "text": [
      "5\n"
     ]
    }
   ],
   "source": [
    "n = 45\n",
    "n = n - 40\n",
    "print(n)"
   ]
  },
  {
   "cell_type": "code",
   "execution_count": 27,
   "metadata": {},
   "outputs": [
    {
     "name": "stdout",
     "output_type": "stream",
     "text": [
      "75.0\n"
     ]
    }
   ],
   "source": [
    "n = 5\n",
    "n = n * 1.5 * 10\n",
    "print(n)"
   ]
  },
  {
   "cell_type": "code",
   "execution_count": 28,
   "metadata": {},
   "outputs": [
    {
     "data": {
      "text/plain": [
       "float"
      ]
     },
     "execution_count": 28,
     "metadata": {},
     "output_type": "execute_result"
    }
   ],
   "source": [
    "type(n)"
   ]
  },
  {
   "cell_type": "code",
   "execution_count": 29,
   "metadata": {},
   "outputs": [
    {
     "name": "stdout",
     "output_type": "stream",
     "text": [
      "450\n"
     ]
    }
   ],
   "source": [
    "payment = 45 * 10\n",
    "print(payment)"
   ]
  },
  {
   "cell_type": "code",
   "execution_count": 41,
   "metadata": {},
   "outputs": [
    {
     "name": "stdout",
     "output_type": "stream",
     "text": [
      "475\n"
     ]
    }
   ],
   "source": [
    "pay = 400 + 75\n",
    "print(pay)"
   ]
  },
  {
   "cell_type": "code",
   "execution_count": null,
   "metadata": {},
   "outputs": [],
   "source": []
  }
 ],
 "metadata": {
  "kernelspec": {
   "display_name": "Python 3",
   "language": "python",
   "name": "python3"
  },
  "language_info": {
   "codemirror_mode": {
    "name": "ipython",
    "version": 3
   },
   "file_extension": ".py",
   "mimetype": "text/x-python",
   "name": "python",
   "nbconvert_exporter": "python",
   "pygments_lexer": "ipython3",
   "version": "3.7.3"
  }
 },
 "nbformat": 4,
 "nbformat_minor": 2
}
