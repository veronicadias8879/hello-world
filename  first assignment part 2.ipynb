{
 "cells": [
  {
   "cell_type": "code",
   "execution_count": 3,
   "metadata": {},
   "outputs": [
    {
     "name": "stdout",
     "output_type": "stream",
     "text": [
      "Before 100\n",
      "45 45\n",
      "45 708\n",
      "45 86\n",
      "45 102\n",
      "3 3\n",
      "3 321\n",
      "3 444\n",
      "After 3\n"
     ]
    }
   ],
   "source": [
    "smallest_so_far = 100\n",
    "print('Before', smallest_so_far)\n",
    "for the_num in[45, 708, 86, 102, 3, 321, 444]:\n",
    "    if the_num < smallest_so_far:\n",
    "        smallest_so_far = the_num\n",
    "    print(smallest_so_far, the_num)\n",
    "print('After', smallest_so_far)"
   ]
  },
  {
   "cell_type": "code",
   "execution_count": null,
   "metadata": {},
   "outputs": [],
   "source": []
  }
 ],
 "metadata": {
  "kernelspec": {
   "display_name": "Python 3",
   "language": "python",
   "name": "python3"
  },
  "language_info": {
   "codemirror_mode": {
    "name": "ipython",
    "version": 3
   },
   "file_extension": ".py",
   "mimetype": "text/x-python",
   "name": "python",
   "nbconvert_exporter": "python",
   "pygments_lexer": "ipython3",
   "version": "3.7.3"
  }
 },
 "nbformat": 4,
 "nbformat_minor": 2
}
