{
 "cells": [
  {
   "cell_type": "code",
   "execution_count": 3,
   "metadata": {},
   "outputs": [
    {
     "name": "stdout",
     "output_type": "stream",
     "text": [
      "[9, 6, 2, 3, 5]\n",
      "9\n",
      "2\n"
     ]
    }
   ],
   "source": [
    "numbers = list()\n",
    "numbers.append(9)\n",
    "numbers.append(6)\n",
    "numbers.append(2)\n",
    "numbers.append(3)\n",
    "numbers.append(5)\n",
    "print(numbers)\n",
    "print(max(numbers))\n",
    "print(min(numbers))"
   ]
  },
  {
   "cell_type": "code",
   "execution_count": null,
   "metadata": {},
   "outputs": [],
   "source": []
  }
 ],
 "metadata": {
  "kernelspec": {
   "display_name": "Python 3",
   "language": "python",
   "name": "python3"
  },
  "language_info": {
   "codemirror_mode": {
    "name": "ipython",
    "version": 3
   },
   "file_extension": ".py",
   "mimetype": "text/x-python",
   "name": "python",
   "nbconvert_exporter": "python",
   "pygments_lexer": "ipython3",
   "version": "3.7.3"
  }
 },
 "nbformat": 4,
 "nbformat_minor": 2
}
